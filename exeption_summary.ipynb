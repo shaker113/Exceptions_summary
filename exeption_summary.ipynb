{
 "cells": [
  {
   "attachments": {},
   "cell_type": "markdown",
   "metadata": {},
   "source": [
    "# Exceptions\n"
   ]
  },
  {
   "attachments": {},
   "cell_type": "markdown",
   "metadata": {},
   "source": [
    "\n",
    "**Exception** is an event, which occurs during the execution of a program that disrupts the normal flow of the program.\n",
    "\n",
    "Different exceptions are raised for different reasons,Common exceptions:\n",
    "\n",
    "* **ImportError**: an import fails.\n",
    "\n",
    "* **IndexError**: a list is indexed with an out-of-range number.\n",
    "\n",
    "* **NameError**: an unknown variable is used.\n",
    "\n",
    "* **SyntaxError**: the code can't be parsed properly. \n",
    "\n",
    "* **TypeError**: a function is called on a value of an inappropriate type.\n",
    "\n",
    "* **ValueError**: a function is called on a value of the correct type, but with an inappropriate value.\n",
    " \n",
    "**Note** : Python has several other built-in exceptions, such as ZeroDivisionError and OSError. Third-party libraries also often define their own exceptions.\n",
    "\n"
   ]
  },
  {
   "attachments": {},
   "cell_type": "markdown",
   "metadata": {},
   "source": [
    "## Exception Handling \n"
   ]
  },
  {
   "attachments": {},
   "cell_type": "markdown",
   "metadata": {},
   "source": [
    "To handle exceptions, and to call code when an exception occurs, you can use a **try/except** statement.\n",
    "\n",
    "The **try** block contains code that might *throw an exception*. If that exception occurs, the code in the **try** block stops being executed, and the code in the **except** block is run. If no error occurs, the code in the **except** block doesn't run.\n",
    "\n",
    "**Note** : A try statement can have multiple different except blocks to handle different exceptions.\n",
    "\n",
    "**Note** : Multiple exceptions can also be put into a single except block using parentheses\n",
    "\n",
    "**Note** : except statement without any exception specified will catch all errors"
   ]
  },
  {
   "cell_type": "code",
   "execution_count": 5,
   "metadata": {},
   "outputs": [
    {
     "name": "stdout",
     "output_type": "stream",
     "text": [
      "Error occurred\n"
     ]
    }
   ],
   "source": [
    "try:\n",
    "   print(10 + \"hello\")\n",
    "   print(5 /0 )\n",
    "except ZeroDivisionError:       # except block 1\n",
    "   print(\"Divided by zero\")\n",
    "except (ValueError, TypeError): # except block 2 have multiple exceptions \n",
    "   print(\"Error occurred\")\n",
    "except :\n",
    "    print(\"other Error occurred\")"
   ]
  },
  {
   "attachments": {},
   "cell_type": "markdown",
   "metadata": {},
   "source": [
    "## finally, else"
   ]
  },
  {
   "attachments": {},
   "cell_type": "markdown",
   "metadata": {},
   "source": [
    "### finally \n",
    "After a try/except statement, a finally block can follow. It will execute after the try/except block, no matter if an exception occurred or not."
   ]
  },
  {
   "cell_type": "code",
   "execution_count": 6,
   "metadata": {},
   "outputs": [
    {
     "name": "stdout",
     "output_type": "stream",
     "text": [
      "Hello\n",
      "Divided by zero\n",
      "This code will run no matter what\n"
     ]
    }
   ],
   "source": [
    "try:\n",
    "   print(\"Hello\")\n",
    "   print(1 / 0)\n",
    "except ZeroDivisionError:\n",
    "   print(\"Divided by zero\")\n",
    "finally:\n",
    "   print(\"This code will run no matter what\")"
   ]
  },
  {
   "attachments": {},
   "cell_type": "markdown",
   "metadata": {},
   "source": [
    "### else \n",
    "The else statement can also be used with try/except statements. \n",
    "In this case, the code within it is only executed if no error occurs in the try statement."
   ]
  },
  {
   "cell_type": "code",
   "execution_count": 7,
   "metadata": {},
   "outputs": [
    {
     "name": "stdout",
     "output_type": "stream",
     "text": [
      "1\n",
      "3\n",
      "4\n"
     ]
    }
   ],
   "source": [
    "try:\n",
    "   print(1)\n",
    "except ZeroDivisionError:\n",
    "   print(2)\n",
    "else:\n",
    "   print(3)"
   ]
  },
  {
   "attachments": {},
   "cell_type": "markdown",
   "metadata": {},
   "source": [
    "## Raising Exceptions \n"
   ]
  },
  {
   "attachments": {},
   "cell_type": "markdown",
   "metadata": {},
   "source": [
    "You can throw (or **raise**) exceptions when some condition occurs. \n",
    "\n",
    "**Note** : Exceptions can be raised with arguments that give detail about them.\n",
    "\n"
   ]
  },
  {
   "cell_type": "code",
   "execution_count": 16,
   "metadata": {},
   "outputs": [
    {
     "name": "stdout",
     "output_type": "stream",
     "text": [
      "Error occurred\n"
     ]
    }
   ],
   "source": [
    "try :\n",
    "    num = 102\n",
    "    if num > 100:\n",
    "        raise NameError(\"Invalid number!\")\n",
    "    elif num<0:\n",
    "        raise ValueError\n",
    "    else:\n",
    "        print(f\"the num = {num}\")\n",
    "except:\n",
    "    print(\"Error occurred\")"
   ]
  }
 ],
 "metadata": {
  "kernelspec": {
   "display_name": "Python 3",
   "language": "python",
   "name": "python3"
  },
  "language_info": {
   "codemirror_mode": {
    "name": "ipython",
    "version": 3
   },
   "file_extension": ".py",
   "mimetype": "text/x-python",
   "name": "python",
   "nbconvert_exporter": "python",
   "pygments_lexer": "ipython3",
   "version": "3.10.9"
  },
  "orig_nbformat": 4,
  "vscode": {
   "interpreter": {
    "hash": "84fd2673a0f847bf80637898000f9b4175f2ffd476d5f31b41a838c2acdb5b76"
   }
  }
 },
 "nbformat": 4,
 "nbformat_minor": 2
}
